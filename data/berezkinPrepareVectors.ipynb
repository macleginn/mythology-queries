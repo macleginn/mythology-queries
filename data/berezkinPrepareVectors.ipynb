{
 "cells": [
  {
   "cell_type": "code",
   "execution_count": 1,
   "metadata": {
    "collapsed": true
   },
   "outputs": [],
   "source": [
    "# The script in this notebook extracts vectorised representations\n",
    "# for traditions and motifs from the .csv file later to be used\n",
    "# in the query-processing engine."
   ]
  },
  {
   "cell_type": "code",
   "execution_count": 1,
   "metadata": {
    "collapsed": false
   },
   "outputs": [],
   "source": [
    "import pandas as pd\n",
    "import json"
   ]
  },
  {
   "cell_type": "code",
   "execution_count": 2,
   "metadata": {
    "collapsed": true
   },
   "outputs": [],
   "source": [
    "berezkin = pd.read_csv(\"berezkin_new.csv\", sep=\"\\t\", index_col=\"idn\")"
   ]
  },
  {
   "cell_type": "code",
   "execution_count": 43,
   "metadata": {
    "collapsed": false
   },
   "outputs": [],
   "source": [
    "def grid_representation(data, mcode):\n",
    "    \"\"\"Creates a vectorised binary-grid representation\n",
    "       for a motif\"\"\"\n",
    "    # We use of grid of 5*5 degree cells represented\n",
    "    # as a 1 * (180/5) * (360/5) dimensional integer vector\n",
    "    vector = [0 for i in range(2592)]\n",
    "    for index, val in enumerate(data[mcode]):\n",
    "        if val == 0:\n",
    "            continue\n",
    "        lat = 180 - (data['latit'][index+1] + 90) # from 0 on the south pole to 180 on the north pole\n",
    "        lon = data['longit'][index+1] + 180       # from 0 in the west to 359 in the east\n",
    "        mult_lat = int(lat // 5)\n",
    "        idx_lon  = int(lon // 5)\n",
    "        vector[36 * mult_lat + idx_lon] = 1\n",
    "    return vector"
   ]
  },
  {
   "cell_type": "code",
   "execution_count": 7,
   "metadata": {
    "collapsed": true
   },
   "outputs": [],
   "source": [
    "colnames = list(berezkin)"
   ]
  },
  {
   "cell_type": "code",
   "execution_count": 7,
   "metadata": {
    "collapsed": false
   },
   "outputs": [],
   "source": [
    "motif_vectors = {}\n",
    "for motif in colnames[11:]:\n",
    "    motif_vectors[motif] = grid_representation(berezkin, motif)"
   ]
  },
  {
   "cell_type": "code",
   "execution_count": 30,
   "metadata": {
    "collapsed": false
   },
   "outputs": [],
   "source": [
    "with open('motif_vectors.json', 'w', encoding = 'utf-8') as out:\n",
    "    json.dump(motif_vectors, out, ensure_ascii=False)"
   ]
  },
  {
   "cell_type": "code",
   "execution_count": 63,
   "metadata": {
    "collapsed": false
   },
   "outputs": [],
   "source": [
    "# Extract distribution across traditions for mapping\n",
    "motif_distributions = {}\n",
    "for motif in colnames[11:]:\n",
    "    motif_distributions[motif] = [int(item) for item in berezkin[motif]]\n",
    "with open('motif_distributions.json', 'w', encoding = 'utf-8') as out:\n",
    "    json.dump(motif_distributions, out, ensure_ascii=False)"
   ]
  },
  {
   "cell_type": "code",
   "execution_count": 6,
   "metadata": {
    "collapsed": false
   },
   "outputs": [],
   "source": [
    "# Extract names with lats and lons\n",
    "latlons = []\n",
    "for idx, val in enumerate(berezkin['groups']):\n",
    "    latlons.append({\n",
    "            \"Name\": val,\n",
    "            \"Latitude\": float(berezkin['latit'][idx+1]),\n",
    "            \"Longitude\": float(berezkin['longit'][idx+1])\n",
    "                   })\n",
    "with open('coords.json', 'w', encoding = 'utf-8') as out:\n",
    "    json.dump(latlons, out)"
   ]
  },
  {
   "cell_type": "code",
   "execution_count": 8,
   "metadata": {
    "collapsed": true
   },
   "outputs": [],
   "source": [
    "# Extract motif list\n",
    "motifs = [item for item in colnames[11:]]\n",
    "with open('motif_list.json', 'w', encoding = 'utf-8') as out:\n",
    "    json.dump(motifs, out)"
   ]
  },
  {
   "cell_type": "code",
   "execution_count": 68,
   "metadata": {
    "collapsed": false
   },
   "outputs": [],
   "source": [
    "# Extract binary representations for traditions\n",
    "traditions = {}\n",
    "for i in range(berezkin.shape[0]):\n",
    "    traditions[berezkin.iloc[i,0]] = [int(item) for item in berezkin.iloc[i,11:]]"
   ]
  },
  {
   "cell_type": "code",
   "execution_count": 70,
   "metadata": {
    "collapsed": false
   },
   "outputs": [],
   "source": [
    "with open('traditions.json', 'w', encoding = 'utf-8') as out:\n",
    "    json.dump(traditions, out, ensure_ascii=False)"
   ]
  }
 ],
 "metadata": {
  "kernelspec": {
   "display_name": "Python 3",
   "language": "python",
   "name": "python3"
  },
  "language_info": {
   "codemirror_mode": {
    "name": "ipython",
    "version": 3
   },
   "file_extension": ".py",
   "mimetype": "text/x-python",
   "name": "python",
   "nbconvert_exporter": "python",
   "pygments_lexer": "ipython3",
   "version": "3.5.1"
  }
 },
 "nbformat": 4,
 "nbformat_minor": 0
}
